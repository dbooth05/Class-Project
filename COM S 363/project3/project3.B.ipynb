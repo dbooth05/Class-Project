{
  "cells": [
    {
      "cell_type": "code",
      "execution_count": 1,
      "metadata": {
        "colab": {
          "base_uri": "https://localhost:8080/"
        },
        "id": "Bije3FVbNEHE",
        "outputId": "a646323d-b732-4aba-b03e-8d59191dc620"
      },
      "outputs": [
        {
          "name": "stdout",
          "output_type": "stream",
          "text": [
            "Collecting pymongo\n",
            "  Downloading pymongo-4.6.0-cp310-cp310-manylinux_2_17_x86_64.manylinux2014_x86_64.whl (677 kB)\n",
            "\u001b[2K     \u001b[90m━━━━━━━━━━━━━━━━━━━━━━━━━━━━━━━━━━━━━━━━\u001b[0m \u001b[32m677.1/677.1 kB\u001b[0m \u001b[31m6.2 MB/s\u001b[0m eta \u001b[36m0:00:00\u001b[0m\n",
            "\u001b[?25hCollecting dnspython<3.0.0,>=1.16.0 (from pymongo)\n",
            "  Downloading dnspython-2.4.2-py3-none-any.whl (300 kB)\n",
            "\u001b[2K     \u001b[90m━━━━━━━━━━━━━━━━━━━━━━━━━━━━━━━━━━━━━━━━\u001b[0m \u001b[32m300.4/300.4 kB\u001b[0m \u001b[31m29.7 MB/s\u001b[0m eta \u001b[36m0:00:00\u001b[0m\n",
            "\u001b[?25hInstalling collected packages: dnspython, pymongo\n",
            "Successfully installed dnspython-2.4.2 pymongo-4.6.0\n"
          ]
        },
        {
          "name": "stderr",
          "output_type": "stream",
          "text": [
            "[nltk_data] Downloading package stopwords to /root/nltk_data...\n",
            "[nltk_data]   Unzipping corpora/stopwords.zip.\n",
            "[nltk_data] Downloading package punkt to /root/nltk_data...\n",
            "[nltk_data]   Unzipping tokenizers/punkt.zip.\n"
          ]
        },
        {
          "data": {
            "text/plain": [
              "True"
            ]
          },
          "execution_count": 1,
          "metadata": {},
          "output_type": "execute_result"
        }
      ],
      "source": [
        "# import all libs (do not change)\n",
        "from pymongo import MongoClient\n",
        "from pymongo.mongo_client import MongoClient\n",
        "from pymongo.server_api import ServerApi\n",
        "import json\n",
        "from bson import Code\n",
        "import pymongo\n",
        "import pprint\n",
        "import nltk\n",
        "from nltk.corpus import stopwords\n",
        "import nbformat\n",
        "from nbconvert.preprocessors import ExecutePreprocessor\n",
        "from itertools import combinations\n",
        "from collections import defaultdict\n",
        "nltk.download('stopwords')\n",
        "nltk.download('punkt')"
      ]
    },
    {
      "cell_type": "code",
      "execution_count": 2,
      "metadata": {
        "colab": {
          "base_uri": "https://localhost:8080/"
        },
        "id": "hgoJ8ychNEHG",
        "outputId": "4589ac70-ff47-4ac4-8312-e6af6b8850b5"
      },
      "outputs": [
        {
          "name": "stdout",
          "output_type": "stream",
          "text": [
            "Pinged your deployment. You successfully connected to MongoDB! {'ok': 1}\n"
          ]
        }
      ],
      "source": [
        "# fill in uri\n",
        "uri = '<Fill in with Mongo Atlas ip, username, password>'\n",
        "# Create a new client and connect to the server\n",
        "client = MongoClient(uri, server_api=ServerApi('1'))\n",
        "# Send a ping to confirm a successful connection\n",
        "try:\n",
        "    capture = client.admin.command('ping')\n",
        "    print(\"Pinged your deployment. You successfully connected to MongoDB!\", capture)\n",
        "except Exception as e:\n",
        "    print(e)"
      ]
    },
    {
      "cell_type": "code",
      "execution_count": 3,
      "metadata": {
        "id": "KEKQ-T_fNEHG"
      },
      "outputs": [],
      "source": [
        "# database (do not change)\n",
        "db = client['test']\n",
        "posts = db['litcovidtest']"
      ]
    },
    {
      "cell_type": "code",
      "execution_count": 4,
      "metadata": {
        "colab": {
          "base_uri": "https://localhost:8080/"
        },
        "id": "AISfdaWuNEHH",
        "outputId": "abeaff6c-5331-441f-8e05-54908e354a72"
      },
      "outputs": [
        {
          "name": "stdout",
          "output_type": "stream",
          "text": [
            "count of transactions: 35590\n"
          ]
        }
      ],
      "source": [
        "# transaction preparation\n",
        "# first need to query the database to obtain all 'passages.text'\n",
        "# fill in (10pts)\n",
        "result = posts.find({})\n",
        "\n",
        "\n",
        "\n",
        "stops = set(stopwords.words('english'))\n",
        "trns = []\n",
        "for post in result:\n",
        "# get each paper\n",
        "    for text in post['passages']:\n",
        "        #get each paragraph in passages\n",
        "        t=text['text']\n",
        "        trn = set()\n",
        "        # seperate sentences\n",
        "        sentences = nltk.sent_tokenize(t)\n",
        "        for sent in sentences:\n",
        "            # seperate words\n",
        "            tokens = nltk.word_tokenize(sent)\n",
        "            for token in tokens:\n",
        "                # convert all words to lower case\n",
        "                token=token.lower()\n",
        "                # remove stopwords, punctuations, and single char\n",
        "                if token not in stops and len(token)>1 :\n",
        "                     trn.add(token)\n",
        "        trns.append(list(trn))\n",
        "# trns is the list of transactions\n",
        "\n",
        "print(\"count of transactions:\", len(trns))"
      ]
    },
    {
      "cell_type": "code",
      "execution_count": null,
      "metadata": {
        "id": "q2SDT2pSNEHH"
      },
      "outputs": [
        {
          "ename": "",
          "evalue": "",
          "output_type": "error",
          "traceback": [
            "\u001b[1;31mRunning cells with 'c:\\Users\\dylan\\AppData\\Local\\Microsoft\\WindowsApps\\PythonSoftwareFoundation.Python.3.11_qbz5n2kfra8p0\\python.exe' requires the ipykernel package.\n",
            "\u001b[1;31mRun the following command to install 'ipykernel' into the Python environment. \n",
            "\u001b[1;31mCommand: 'c:/Users/dylan/AppData/Local/Microsoft/WindowsApps/PythonSoftwareFoundation.Python.3.11_qbz5n2kfra8p0/python.exe -m pip install ipykernel -U --user --force-reinstall'"
          ]
        }
      ],
      "source": [
        "# functions to mine patterns and their frequency\n",
        "# fill in function\n",
        "def frequentItem(transactions, minSupport, k):\n",
        "    transaction_sets = defaultdict(int)\n",
        "    for transaction in transactions:\n",
        "        for item in transaction:\n",
        "            transaction_sets[item] += 1\n",
        "    transaction_sets = dict((item, support) for item, support in transaction_sets.items() if support >= minSupport)\n",
        "    frequency_sets = transaction_sets.copy()\n",
        "    if k == 1:\n",
        "        return sorted(frequency_sets.items(), key=lambda x: x[1], reverse=True)\n",
        "    elif k == 2:\n",
        "        pairs = defaultdict(int)\n",
        "        for transaction in transactions:\n",
        "            for i in range(len(transaction)):\n",
        "                    for j in range(i+1, len(transaction)):\n",
        "                        if transaction[i] in transaction_sets and transaction[j] in transaction_sets:\n",
        "                            pair = ','.join(sorted([transaction[i], transaction[j]]))\n",
        "                            pairs[pair] += 1\n",
        "        pairs = {pair:count for pair, count in pairs.items() if count >= minSupport}\n",
        "        return sorted(pairs.items(), key=lambda x: x[1], reverse=True)\n",
        "    else:\n",
        "        for i in range(2, k+1):\n",
        "            frequency_sets = defaultdict(int)\n",
        "            for itemset in combinations(transaction_sets, i):\n",
        "                support = min(transaction_sets[item] for item in itemset)\n",
        "                frequency_sets[itemset] = support\n",
        "            frequency_sets = dict((itemset, support) for itemset, support in frequency_sets.items() if support >= minSupport)\n",
        "            transaction_sets.update(frequency_sets)\n",
        "        return sorted(frequency_sets.items(), key=lambda x: x[1], reverse=True)\n"
      ]
    },
    {
      "cell_type": "code",
      "execution_count": 6,
      "metadata": {
        "colab": {
          "base_uri": "https://localhost:8080/"
        },
        "id": "4xP1v_XhNEHH",
        "outputId": "3b0b7efe-f769-4b42-ed72-891feb484e19"
      },
      "outputs": [
        {
          "name": "stdout",
          "output_type": "stream",
          "text": [
            "count of frequent 1-itemset with minSupport=200: 758\n",
            "[('covid-19', 9053),\n",
            " ('patients', 4704),\n",
            " ('study', 3213),\n",
            " ('sars-cov-2', 2909),\n",
            " ('disease', 2843)]\n"
          ]
        }
      ],
      "source": [
        "# find all frequent 1-itemset with minSupport = 200\n",
        "# 20pts\n",
        "f1item=frequentItem(trns, minSupport=200, k=1)\n",
        "countF1item = len(f1item)\n",
        "print(\"count of frequent 1-itemset with minSupport=200:\", countF1item)\n",
        "pprint.pprint(f1item[0:5])"
      ]
    },
    {
      "cell_type": "code",
      "execution_count": 7,
      "metadata": {
        "colab": {
          "base_uri": "https://localhost:8080/"
        },
        "id": "G3d-nbFaNEHH",
        "outputId": "57b3b50c-3488-45f3-e83e-19f0303788d7"
      },
      "outputs": [
        {
          "name": "stdout",
          "output_type": "stream",
          "text": [
            "count of frequent 1-itemset with minSupport=500: 205\n"
          ]
        }
      ],
      "source": [
        "# find all frequent 1-itemset with minSupport = 500\n",
        "# 10pts\n",
        "f1item=frequentItem(trns, minSupport=500, k=1)\n",
        "countF1item = len(f1item)\n",
        "print(\"count of frequent 1-itemset with minSupport=500:\", countF1item)"
      ]
    },
    {
      "cell_type": "code",
      "execution_count": 8,
      "metadata": {
        "colab": {
          "base_uri": "https://localhost:8080/"
        },
        "id": "6Wi5uZ6XNEHH",
        "outputId": "c284185f-a623-4f32-d9b0-63a36e67f3d1"
      },
      "outputs": [
        {
          "name": "stdout",
          "output_type": "stream",
          "text": [
            "count of frequent 1-itemset with minSupport=1000: 58\n"
          ]
        }
      ],
      "source": [
        "# find all frequent 1-itemset with minSupport = 1000\n",
        "# 10pts\n",
        "f1item=frequentItem(trns, minSupport=1000, k=1)\n",
        "countF1item = len(f1item)\n",
        "print(\"count of frequent 1-itemset with minSupport=1000:\", countF1item)"
      ]
    },
    {
      "cell_type": "code",
      "execution_count": 9,
      "metadata": {
        "colab": {
          "base_uri": "https://localhost:8080/"
        },
        "id": "1t4_23lFNEHI",
        "outputId": "783b81bf-b4ab-4210-c519-0c1e9a33ab27"
      },
      "outputs": [
        {
          "name": "stdout",
          "output_type": "stream",
          "text": [
            "count of frequent 2-itemset with minSupport=200: 286903\n",
            "[(('covid-19', 'patients'), 4704),\n",
            " (('covid-19', 'study'), 3213),\n",
            " (('patients', 'study'), 3213),\n",
            " (('covid-19', 'sars-cov-2'), 2909),\n",
            " (('patients', 'sars-cov-2'), 2909)]\n"
          ]
        }
      ],
      "source": [
        "# find all frequent 2-itemset with minSupport = 200\n",
        "# 20pts\n",
        "f2item=frequentItem(trns, minSupport=200, k=2)\n",
        "countF2item = len(f2item)\n",
        "print(\"count of frequent 2-itemset with minSupport=200:\", countF2item)\n",
        "pprint.pprint(f2item[0:5])"
      ]
    },
    {
      "cell_type": "code",
      "execution_count": 10,
      "metadata": {
        "colab": {
          "base_uri": "https://localhost:8080/"
        },
        "id": "qZEUKawtNEHI",
        "outputId": "4c56451f-8e26-42da-ca47-1a1140dfd3c1"
      },
      "outputs": [
        {
          "name": "stdout",
          "output_type": "stream",
          "text": [
            "count of frequent 2-itemset with minSupport=400: 40755\n"
          ]
        }
      ],
      "source": [
        "# find all frequent 2-itemset with minSupport = 400\n",
        "# 10pts\n",
        "f2item=frequentItem(trns, minSupport=400, k=2)\n",
        "countF2item = len(f2item)\n",
        "print(\"count of frequent 2-itemset with minSupport=400:\", countF2item)"
      ]
    },
    {
      "cell_type": "code",
      "execution_count": 11,
      "metadata": {
        "colab": {
          "base_uri": "https://localhost:8080/"
        },
        "id": "kMQRB-yINEHI",
        "outputId": "d7bce1a2-468e-41e0-9d74-d6f0e1b63328"
      },
      "outputs": [
        {
          "name": "stdout",
          "output_type": "stream",
          "text": [
            "count of frequent 2-itemset with minSupport=600: 10585\n"
          ]
        }
      ],
      "source": [
        "# find all frequent 2-itemset with minSupport = 600\n",
        "# 10pts\n",
        "f2item=frequentItem(trns, minSupport=600, k=2)\n",
        "countF2item = len(f2item)\n",
        "print(\"count of frequent 2-itemset with minSupport=600:\", countF2item)"
      ]
    },
    {
      "cell_type": "code",
      "execution_count": 12,
      "metadata": {
        "colab": {
          "base_uri": "https://localhost:8080/"
        },
        "id": "7J75PvLTNEHI",
        "outputId": "33f29ba5-23f6-4564-d1fe-f445aac4c50a"
      },
      "outputs": [
        {
          "name": "stdout",
          "output_type": "stream",
          "text": [
            "count of frequent 2-itemset with minSupport=800: 3828\n"
          ]
        }
      ],
      "source": [
        "# find all frequent 2-itemset with minSupport = 800\n",
        "# 10pts\n",
        "f2item=frequentItem(trns, minSupport=800, k=2)\n",
        "countF2item = len(f2item)\n",
        "print(\"count of frequent 2-itemset with minSupport=800:\", countF2item)"
      ]
    }
  ],
  "metadata": {
    "colab": {
      "provenance": []
    },
    "kernelspec": {
      "display_name": "Python 3",
      "language": "python",
      "name": "python3"
    },
    "language_info": {
      "codemirror_mode": {
        "name": "ipython",
        "version": 3
      },
      "file_extension": ".py",
      "mimetype": "text/x-python",
      "name": "python",
      "nbconvert_exporter": "python",
      "pygments_lexer": "ipython3",
      "version": "3.11.6"
    }
  },
  "nbformat": 4,
  "nbformat_minor": 0
}
