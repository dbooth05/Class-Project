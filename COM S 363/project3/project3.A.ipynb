{
  "cells": [
    {
      "cell_type": "code",
      "execution_count": 16,
      "metadata": {
        "colab": {
          "base_uri": "https://localhost:8080/"
        },
        "id": "6rnspSykErLG",
        "outputId": "1607efaf-f4c0-4472-f1a2-b4c80a6ec2d9"
      },
      "outputs": [],
      "source": [
        "# import all libs (do not change)\n",
        "from pymongo import MongoClient\n",
        "from pymongo.mongo_client import MongoClient\n",
        "from pymongo.server_api import ServerApi\n",
        "import json\n",
        "import pymongo\n",
        "import pprint\n",
        "import nbformat\n",
        "from nbconvert.preprocessors import ExecutePreprocessor"
      ]
    },
    {
      "cell_type": "code",
      "execution_count": 17,
      "metadata": {
        "colab": {
          "base_uri": "https://localhost:8080/"
        },
        "id": "0tt1X0CzErLH",
        "outputId": "236d8f02-cf4d-40dd-c351-465cc19d5814"
      },
      "outputs": [
        {
          "name": "stdout",
          "output_type": "stream",
          "text": [
            "Pinged your deployment. You successfully connected to MongoDB! {'ok': 1}\n"
          ]
        }
      ],
      "source": [
        "# fill in uri (5pts)\n",
        "uri = '<Fill in with URL to Mongo Atlas IP, username, password>'\n",
        "# Create a new client and connect to the server\n",
        "client = MongoClient(uri, server_api=ServerApi('1'))\n",
        "# Send a ping to confirm a successful connection\n",
        "try:\n",
        "    capture = client.admin.command('ping')\n",
        "    print(\"Pinged your deployment. You successfully connected to MongoDB!\", capture)\n",
        "except Exception as e:\n",
        "    print(e)"
      ]
    },
    {
      "cell_type": "code",
      "execution_count": 18,
      "metadata": {
        "id": "QvaONWKiErLH"
      },
      "outputs": [],
      "source": [
        "# database (do not change)\n",
        "db = client['test']\n",
        "if 'litcovidtest' in db.list_collection_names():\n",
        "    db['litcovidtest'].drop()\n",
        "posts = db['litcovidtest']"
      ]
    },
    {
      "cell_type": "code",
      "execution_count": 19,
      "metadata": {
        "id": "QwxYqfK8ErLI"
      },
      "outputs": [],
      "source": [
        "# Loading or Opening the json file\n",
        "with open('litcovid2BioCJSON_small.json') as file:\n",
        "    file_data = json.load(file)\n",
        "\n",
        "# Inserting the loaded data in the Collection\n",
        "# if JSON contains data more than one entry\n",
        "# insert_many is used else inser_one is used\n",
        "# fill in (5 pts)\n",
        "if isinstance(file_data, list):\n",
        "    posts.insert_many(file_data)\n",
        "else:\n",
        "    posts.insert_one(file_data)\n",
        "\n"
      ]
    },
    {
      "cell_type": "code",
      "execution_count": 20,
      "metadata": {
        "colab": {
          "base_uri": "https://localhost:8080/"
        },
        "id": "DghGY7-oErLI",
        "outputId": "e1cddd75-c096-43e1-b939-d222690358af"
      },
      "outputs": [
        {
          "name": "stdout",
          "output_type": "stream",
          "text": [
            "Count the number of documents in this corpus 1000\n"
          ]
        }
      ],
      "source": [
        "# Count the number of documents in this corpus\n",
        "# fill in (10 pts)\n",
        "result1 = posts.count_documents({})\n",
        "print(\"Count the number of documents in this corpus\", result1)"
      ]
    },
    {
      "cell_type": "code",
      "execution_count": 21,
      "metadata": {
        "colab": {
          "base_uri": "https://localhost:8080/"
        },
        "id": "W24Dov2ZErLI",
        "outputId": "3491cdd3-d1e2-4128-b49c-9b15ae99cb36"
      },
      "outputs": [
        {
          "name": "stdout",
          "output_type": "stream",
          "text": [
            "dict_keys(['_id', 'id', 'infons', 'passages', 'pmid', 'pmcid', 'journal', 'year', 'authors'])\n"
          ]
        }
      ],
      "source": [
        "# find the fields for the first document in this corpus\n",
        "# fill in (10 pts)\n",
        "result2 = posts.find_one().keys()\n",
        "pprint.pprint(result2)"
      ]
    },
    {
      "cell_type": "code",
      "execution_count": 22,
      "metadata": {
        "id": "7W7P8q_cErLI"
      },
      "outputs": [
        {
          "name": "stdout",
          "output_type": "stream",
          "text": [
            "{'_id': '', 'count': 137}\n",
            "{'_id': 'BMJ', 'count': 12}\n",
            "{'_id': 'Nature', 'count': 10}\n",
            "{'_id': 'PLoS One', 'count': 9}\n",
            "{'_id': 'Cureus', 'count': 7}\n",
            "{'_id': 'Sci Rep', 'count': 6}\n",
            "{'_id': 'Gastroenterology', 'count': 5}\n",
            "{'_id': 'Am J Infect Control', 'count': 5}\n",
            "{'_id': 'N Engl J Med', 'count': 5}\n",
            "{'_id': 'Lancet Child Adolesc Health', 'count': 4}\n"
          ]
        }
      ],
      "source": [
        "# Count the number of publications for each journal. Sort the result in descending order and print top 10\n",
        "# fill in (10 pts)\n",
        "result3 = posts.aggregate([{\"$group\": {\"_id\":\"$journal\", \"count\":{\"$sum\":1}}}, {\"$sort\": {\"count\": -1}}, {\"$limit\":10}])\n",
        "for post in result3:\n",
        "    pprint.pprint(post)"
      ]
    },
    {
      "cell_type": "code",
      "execution_count": 23,
      "metadata": {
        "id": "1-Yoc6bBErLJ"
      },
      "outputs": [
        {
          "name": "stdout",
          "output_type": "stream",
          "text": [
            "33686269\n",
            "('Daily briefing: A protein on the surface of the coronavirus might explain '\n",
            " 'why it is so contagious.')\n",
            "32317784\n",
            "(\"'Closing borders is ridiculous': the epidemiologist behind Sweden's \"\n",
            " 'controversial coronavirus strategy.')\n",
            "32393876\n",
            "'How fake news about coronavirus became a second pandemic.'\n",
            "33762701\n",
            "('Daily briefing: New York City will start treating COVID-19 patients with the '\n",
            " 'blood of survivors.')\n",
            "34294926\n",
            "('Daily briefing: The biotech building a better, faster, stronger coronavirus '\n",
            " 'vaccine.')\n",
            "33082543\n",
            "'How obesity could create problems for a COVID vaccine.'\n",
            "32488164\n",
            "('Return to the lab: scientists face shiftwork, masks and distancing as '\n",
            " 'coronavirus lockdowns ease.')\n",
            "33742175\n",
            "'Coronapod: Why COVID antibody treatments may not be the answer.'\n",
            "32967006\n",
            "'SARS-CoV-2 vaccines in development.'\n",
            "33953391\n",
            "'Why some researchers oppose unrestricted sharing of coronavirus data.'\n"
          ]
        }
      ],
      "source": [
        "# Find all papers published in Nature journal. Print their pmids and titles\n",
        "# fill in (10 pts)\n",
        "result4 = posts.find({\"journal\": \"Nature\"})\n",
        "for post in result4:\n",
        "    pprint.pprint(post['pmid'])\n",
        "    pprint.pprint(post['passages'][0]['text'])"
      ]
    },
    {
      "cell_type": "code",
      "execution_count": 24,
      "metadata": {
        "id": "PzwWgvlLErLJ"
      },
      "outputs": [
        {
          "name": "stdout",
          "output_type": "stream",
          "text": [
            "{'_id': 'Zhang Y', 'count': 12}\n",
            "{'_id': 'Wang J', 'count': 8}\n",
            "{'_id': 'Zhang L', 'count': 7}\n",
            "{'_id': 'Li Y', 'count': 7}\n",
            "{'_id': 'Yang Y', 'count': 7}\n",
            "{'_id': 'Li X', 'count': 7}\n",
            "{'_id': 'Wang S', 'count': 7}\n",
            "{'_id': 'Zhang J', 'count': 7}\n",
            "{'_id': 'Wang Z', 'count': 6}\n",
            "{'_id': 'Li J', 'count': 6}\n"
          ]
        }
      ],
      "source": [
        "# Count the number of publications for each author. Sort the results in descending order and return the top 10 authors\n",
        "# fill in (10 pts)\n",
        "result5= posts.aggregate([{\"$unwind\": \"$authors\"},\n",
        "                          {\"$group\": {\"_id\": \"$authors\", \"count\":{\"$sum\":1}}},\n",
        "                          {\"$sort\":{\"count\":-1}}, {\"$limit\": 10}])\n",
        "for post in result5:\n",
        "    pprint.pprint(post)"
      ]
    },
    {
      "cell_type": "code",
      "execution_count": 25,
      "metadata": {
        "id": "8C3K9i-YErLJ"
      },
      "outputs": [
        {
          "name": "stdout",
          "output_type": "stream",
          "text": [
            "34124189\n",
            "'Front Cardiovasc Med'\n",
            "('Early vs. Late Onset Cardiac Injury and Mortality in Hospitalized COVID-19 '\n",
            " 'Patients in Wuhan.')\n",
            "34017205\n",
            "'Psychol Res Behav Manag'\n",
            "('Perceived Stress Among Chinese Medical Students Engaging in Online Learning '\n",
            " 'in Light of COVID-19')\n",
            "32118389\n",
            "'Zhonghua Er Ke Za Zhi. 2020 Mar 2'\n",
            "('[Clinical analysis of 31 cases of 2019 novel coronavirus infection in '\n",
            " 'children from six provinces (autonomous region) of northern China].')\n",
            "32761481\n",
            "'Eur J Clin Microbiol Infect Dis'\n",
            "('Update on recommendations for the diagnosis and treatment of SARS-CoV-2 '\n",
            " 'infection in children.')\n",
            "34184314\n",
            "'Echocardiography'\n",
            "('Incremental prognostic value of biventricular longitudinal strain and '\n",
            " 'high-sensitivity troponin I in COVID-19 patients.')\n",
            "33969815\n",
            "'J Aging Soc Policy'\n",
            "('The Impact of COVID-19 on Social Isolation in Long-term Care Homes: '\n",
            " 'Perspectives of Policies and Strategies from Six Countries.')\n",
            "32322046\n",
            "'Eur J Clin Nutr'\n",
            "('Prevalence of malnutrition and analysis of related factors in elderly '\n",
            " 'patients with COVID-19 in Wuhan, China')\n",
            "33912196\n",
            "'Front Immunol'\n",
            "('COVID-19 Vaccines: Current Understanding on Immunogenicity, Safety, and '\n",
            " 'Further Considerations')\n"
          ]
        }
      ],
      "source": [
        "# Find the papers written by ‘Wang J’, print the paper pmids, journal names and titles\n",
        "# fill in (10 pts)\n",
        "result6= posts.find({\"authors\": \"Wang J\"})\n",
        "for post in result6:\n",
        "    pprint.pprint(post['pmid'])\n",
        "    pprint.pprint(post['journal'])\n",
        "    pprint.pprint(post['passages'][0]['text'])"
      ]
    },
    {
      "cell_type": "code",
      "execution_count": 26,
      "metadata": {
        "colab": {
          "base_uri": "https://localhost:8080/",
          "height": 35
        },
        "id": "gBzhIdZGErLJ",
        "outputId": "6baffdbe-6bf0-4f1c-d1b0-8b2ed25491ac"
      },
      "outputs": [
        {
          "data": {
            "text/plain": [
              "'passages.text_text'"
            ]
          },
          "execution_count": 26,
          "metadata": {},
          "output_type": "execute_result"
        }
      ],
      "source": [
        "# Create text index on passages.text\n",
        "# fill in\n",
        "posts.create_index([(\"passages.text\", \"text\")])"
      ]
    },
    {
      "cell_type": "code",
      "execution_count": 27,
      "metadata": {
        "colab": {
          "base_uri": "https://localhost:8080/"
        },
        "id": "Zz-k-I5hErLK",
        "outputId": "68f7051a-1934-463c-bf7e-7d868b18f44c"
      },
      "outputs": [
        {
          "name": "stdout",
          "output_type": "stream",
          "text": [
            "Count the number of publications that contains the phrase 'COVID-19 Vaccine' 46\n"
          ]
        }
      ],
      "source": [
        "# count the number of publications that contains the phrase \"COVID-19 Vaccine\"\n",
        "# fill in (10 pts)\n",
        "result7= posts.count_documents({\"$text\": {\"$search\": \"\\\"COVID-19 Vaccine\\\"\"}})\n",
        "print(\"Count the number of publications that contains the phrase 'COVID-19 Vaccine'\", result7)"
      ]
    },
    {
      "cell_type": "code",
      "execution_count": 28,
      "metadata": {
        "colab": {
          "base_uri": "https://localhost:8080/"
        },
        "id": "hhSngxEsErLK",
        "outputId": "a94d8bbe-2332-4bf7-b119-4fb3c09a5407"
      },
      "outputs": [
        {
          "name": "stdout",
          "output_type": "stream",
          "text": [
            "Count the number of publications that contains the words 'COVID-19' or 'Vaccine' 912\n"
          ]
        }
      ],
      "source": [
        "# count the number of publications that contains the words \"COVID-19\" or \"Vaccine\"\n",
        "# fill in (10 pts)\n",
        "result8= posts.count_documents({\"$text\": {\"$search\": \"COVID-19 Vaccine\"}})\n",
        "print(\"Count the number of publications that contains the words 'COVID-19' or 'Vaccine'\", result8)"
      ]
    },
    {
      "cell_type": "code",
      "execution_count": 29,
      "metadata": {
        "colab": {
          "base_uri": "https://localhost:8080/"
        },
        "id": "f1T96t25ErLK",
        "outputId": "a5ec91cc-3fbc-4588-9076-bc592b617a22"
      },
      "outputs": [
        {
          "name": "stdout",
          "output_type": "stream",
          "text": [
            "Count the number of publications that contains the words 'COVID-19' and 'Vaccine' 144\n"
          ]
        }
      ],
      "source": [
        "# count the number of publications that contains the words \"COVID-19\" and \"Vaccine\"\n",
        "# fill in (10 pts)\n",
        "result9= posts.count_documents({\"$text\": {\"$search\": \"\\\"COVID-19\\\" \\\"Vaccine\\\"\"}})\n",
        "print(\"Count the number of publications that contains the words 'COVID-19' and 'Vaccine'\", result9)"
      ]
    }
  ],
  "metadata": {
    "colab": {
      "provenance": []
    },
    "kernelspec": {
      "display_name": "Python 3",
      "language": "python",
      "name": "python3"
    },
    "language_info": {
      "codemirror_mode": {
        "name": "ipython",
        "version": 3
      },
      "file_extension": ".py",
      "mimetype": "text/x-python",
      "name": "python",
      "nbconvert_exporter": "python",
      "pygments_lexer": "ipython3",
      "version": "3.9.13"
    }
  },
  "nbformat": 4,
  "nbformat_minor": 0
}
